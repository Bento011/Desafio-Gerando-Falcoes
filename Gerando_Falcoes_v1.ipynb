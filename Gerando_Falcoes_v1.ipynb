{
 "cells": [
  {
   "cell_type": "markdown",
   "metadata": {
    "application/vnd.databricks.v1+cell": {
     "cellMetadata": {
      "byteLimit": 2048000,
      "rowLimit": 10000
     },
     "inputWidgets": {},
     "nuid": "65e96bfb-b9fa-475e-8346-e5a703bfa8ef",
     "showTitle": false,
     "tableResultSettingsMap": {},
     "title": ""
    }
   },
   "source": [
    "# Desafio Gerando Falções\n",
    "## Análise Exploratória\n",
    "\n",
    "Este notebook contém as analises realizadas durante a exploração dos dados.\n",
    "\n",
    "Essas análises, serviram de base para o desenvolvimento do ETL do projeto."
   ]
  },
  {
   "cell_type": "markdown",
   "metadata": {
    "application/vnd.databricks.v1+cell": {
     "cellMetadata": {
      "byteLimit": 2048000,
      "rowLimit": 10000
     },
     "inputWidgets": {},
     "nuid": "cbce5874-718d-48c1-88eb-0e5787cebe47",
     "showTitle": false,
     "tableResultSettingsMap": {},
     "title": ""
    }
   },
   "source": [
    "### Importações"
   ]
  },
  {
   "cell_type": "code",
   "execution_count": 0,
   "metadata": {
    "application/vnd.databricks.v1+cell": {
     "cellMetadata": {
      "byteLimit": 2048000,
      "rowLimit": 10000
     },
     "inputWidgets": {},
     "nuid": "d2aea4a0-5ef9-4caa-9cfa-e84fd0006975",
     "showTitle": false,
     "tableResultSettingsMap": {},
     "title": ""
    }
   },
   "outputs": [],
   "source": [
    "import datetime\n",
    "import re\n",
    "\n",
    "import matplotlib.pyplot as plt\n",
    "import seaborn as sns\n",
    "import pyspark.sql.functions as F\n",
    "\n",
    "from pyspark.sql.utils import AnalysisException\n",
    "from pyspark.sql.types import IntegerType, StringType, FloatType, DoubleType, DateType, TimestampType, StructField, StructType"
   ]
  },
  {
   "cell_type": "markdown",
   "metadata": {
    "application/vnd.databricks.v1+cell": {
     "cellMetadata": {
      "byteLimit": 2048000,
      "rowLimit": 10000
     },
     "inputWidgets": {},
     "nuid": "125bc669-36f9-4640-9b0b-ffcb60be7a66",
     "showTitle": false,
     "tableResultSettingsMap": {},
     "title": ""
    }
   },
   "source": [
    "### Obtenção dos Dados"
   ]
  },
  {
   "cell_type": "code",
   "execution_count": 0,
   "metadata": {
    "application/vnd.databricks.v1+cell": {
     "cellMetadata": {
      "byteLimit": 2048000,
      "rowLimit": 10000
     },
     "inputWidgets": {},
     "nuid": "a0ac1ade-85b6-475b-94a4-2c47503b4ac3",
     "showTitle": false,
     "tableResultSettingsMap": {},
     "title": ""
    }
   },
   "outputs": [],
   "source": [
    "\n",
    "def create_delta_table_from_csv(table_name, csv_path, database=\"default\"):\n",
    "    try:\n",
    "        # Check if the table already exists\n",
    "        df = spark.read.format(\"delta\").table(f\"{database}.{table_name}\")\n",
    "        print(f\"Table {database}.{table_name} already exists.\")\n",
    "    except AnalysisException:\n",
    "        # Read the CSV file into a DataFrame\n",
    "        df = spark.read.csv(csv_path, header=True, inferSchema=True)\n",
    "        \n",
    "        # Write the DataFrame to a Delta table\n",
    "        df.write.format(\"delta\").saveAsTable(f\"{database}.{table_name}\")\n",
    "        print(f\"Table {database}.{table_name} created from {csv_path}.\")\n",
    "    \n",
    "    return df\n",
    "\n",
    "# Define paths\n",
    "clientes_csv_path = \"/Users/bentofreitas/Documents/clientes.csv\"\n",
    "produtos_csv_path = \"/Users/bentofreitas/Documents/produtos.csv\"\n",
    "vendas_csv_path = \"/Users/bentofreitas/Documents/vendas.csv\"\n",
    "\n",
    "# Create Delta tables and get DataFrames\n",
    "clientes_df = create_delta_table_from_csv(\"clientes\", clientes_csv_path)\n",
    "produtos_df = create_delta_table_from_csv(\"produtos\", produtos_csv_path)\n",
    "vendas_df = create_delta_table_from_csv(\"vendas\", vendas_csv_path)"
   ]
  },
  {
   "cell_type": "markdown",
   "metadata": {
    "application/vnd.databricks.v1+cell": {
     "cellMetadata": {
      "byteLimit": 2048000,
      "rowLimit": 10000
     },
     "inputWidgets": {},
     "nuid": "5c3f95a8-9018-4aee-b509-14e123b1e2a1",
     "showTitle": false,
     "tableResultSettingsMap": {},
     "title": ""
    }
   },
   "source": [
    "### Funções de Exploração"
   ]
  },
  {
   "cell_type": "code",
   "execution_count": 0,
   "metadata": {
    "application/vnd.databricks.v1+cell": {
     "cellMetadata": {
      "byteLimit": 2048000,
      "rowLimit": 10000
     },
     "inputWidgets": {},
     "nuid": "8e0038b3-475d-4fd0-9f1d-2f4212944a7c",
     "showTitle": false,
     "tableResultSettingsMap": {},
     "title": ""
    }
   },
   "outputs": [],
   "source": [
    "def show_table(df):\n",
    "    print(\"First 5 rows:\")\n",
    "    display(df.limit(5))\n",
    "\n",
    "    print(\"Schema:\")\n",
    "    df.printSchema()\n",
    "\n",
    "    row_count = df.count()\n",
    "    print(f\"Number of rows: {row_count}\")"
   ]
  },
  {
   "cell_type": "code",
   "execution_count": 0,
   "metadata": {
    "application/vnd.databricks.v1+cell": {
     "cellMetadata": {
      "byteLimit": 2048000,
      "rowLimit": 10000
     },
     "inputWidgets": {},
     "nuid": "b037338c-4239-498a-8967-4f81b2fde662",
     "showTitle": false,
     "tableResultSettingsMap": {},
     "title": ""
    }
   },
   "outputs": [],
   "source": [
    "def basic_eda(df):\n",
    "    print(\"Contagem de linhas duplicadas: \")\n",
    "    duplicate_rows_count = df.count() - df.dropDuplicates().count()\n",
    "    print(duplicate_rows_count)\n",
    "\n",
    "    print(\"\\nValores Nulos por coluna: \")\n",
    "    null_counts = df.select([\n",
    "        F.col(c).isNull().cast(\"int\").alias(c) for c in df.columns\n",
    "    ]).groupBy().sum()\n",
    "    display(null_counts)\n",
    "    \n",
    "    print(\"\\nResumo estatístico por coluna:\")\n",
    "    display(df.describe())"
   ]
  },
  {
   "cell_type": "code",
   "execution_count": 0,
   "metadata": {
    "application/vnd.databricks.v1+cell": {
     "cellMetadata": {
      "byteLimit": 2048000,
      "rowLimit": 10000
     },
     "inputWidgets": {},
     "nuid": "852557d5-7781-40ef-811f-7744f433e734",
     "showTitle": false,
     "tableResultSettingsMap": {},
     "title": ""
    }
   },
   "outputs": [],
   "source": [
    "import matplotlib.pyplot as plt\n",
    "import seaborn as sns\n",
    "from pyspark.sql.types import NumericType\n",
    "\n",
    "def graphical_eda(df, text_size=12):\n",
    "    # Convert Spark DataFrame to Pandas DataFrame for plotting\n",
    "    pdf = df.toPandas()\n",
    "    \n",
    "    # Set default text size for plots\n",
    "    plt.rcParams.update({'font.size': text_size})\n",
    "    \n",
    "    # Identify numerical and categorical columns\n",
    "    num_cols = [field.name for field in df.schema.fields if isinstance(field.dataType, NumericType)]\n",
    "    cat_cols = [field.name for field in df.schema.fields if not isinstance(field.dataType, NumericType)]\n",
    "    \n",
    "    # Plot 1: Distribution of numerical columns\n",
    "    for col in num_cols:\n",
    "        plt.figure(figsize=(15, 10))\n",
    "        sns.histplot(pdf[col].dropna(), kde=True)\n",
    "        plt.title(f'Distribution of {col}')\n",
    "        plt.xlabel(col)\n",
    "        plt.ylabel('Frequency')\n",
    "        plt.show()\n",
    "    \n",
    "    # Plot 2: Count plot for categorical columns\n",
    "    for col in cat_cols:\n",
    "        plt.figure(figsize=(15, 20))\n",
    "        sns.countplot(y=pdf[col].dropna(), order=pdf[col].value_counts().index)\n",
    "        plt.title(f'Count plot of {col}')\n",
    "        plt.xlabel('Count')\n",
    "        plt.ylabel(col)\n",
    "        plt.show()\n",
    "    \n",
    "    # Plot 3: Correlation heatmap for numerical columns\n",
    "    if len(num_cols) > 1:\n",
    "        plt.figure(figsize=(10, 8))\n",
    "        corr = pdf[num_cols].corr()\n",
    "        sns.heatmap(corr, annot=True, cmap='coolwarm', vmin=-1, vmax=1)\n",
    "        plt.title('Correlation Heatmap')\n",
    "        plt.show()"
   ]
  },
  {
   "cell_type": "markdown",
   "metadata": {
    "application/vnd.databricks.v1+cell": {
     "cellMetadata": {
      "byteLimit": 2048000,
      "rowLimit": 10000
     },
     "inputWidgets": {},
     "nuid": "af64b608-ce24-42d6-a932-746f0f0a8d66",
     "showTitle": false,
     "tableResultSettingsMap": {},
     "title": ""
    }
   },
   "source": [
    "### Construção de Base Unificada"
   ]
  },
  {
   "cell_type": "code",
   "execution_count": 0,
   "metadata": {
    "application/vnd.databricks.v1+cell": {
     "cellMetadata": {
      "byteLimit": 2048000,
      "rowLimit": 10000
     },
     "inputWidgets": {},
     "nuid": "348c4032-9741-431f-bce7-0b373a46184a",
     "showTitle": false,
     "tableResultSettingsMap": {},
     "title": ""
    }
   },
   "outputs": [],
   "source": [
    "# Cria dataframe unificado a partir \n",
    "df_unificado = (\n",
    "    vendas_df\n",
    "    .join(produtos_df, \"id_produto\", \"inner\")\n",
    "    .join(clientes_df, \"id_cliente\", \"inner\")\n",
    ")\n",
    "\n",
    "# Adiciona coluna ano-mes, com o ano e o mês da data de venda\n",
    "df_unificado = df_unificado.withColumn(\"ano_mes_venda\", F.date_format(F.col('data_venda'), \"yyyy-MM\"))\n",
    "\n",
    "# Re-ordena e seleciona somente as colunas relevantes\n",
    "# Exclusão das colunas marca e cidade, como demonstrado na análise exploratória\n",
    "df_unificado = df_unificado.select(\n",
    "    'id_venda', 'canal_venda', 'valor', 'data_venda', 'ano_mes_venda',\n",
    "    'id_produto', 'nome_produto', 'descricao', 'marca',\n",
    "    'id_cliente', 'nome', 'email', 'telefone', 'cidade', 'estado', 'data_cadastro'\n",
    ")\n",
    "\n",
    "# Display the joined dataframe\n",
    "# display(df_unificado)"
   ]
  },
  {
   "cell_type": "markdown",
   "metadata": {
    "application/vnd.databricks.v1+cell": {
     "cellMetadata": {
      "byteLimit": 2048000,
      "rowLimit": 10000
     },
     "inputWidgets": {},
     "nuid": "a69c3026-4bed-4b5c-a504-f19092c5732f",
     "showTitle": false,
     "tableResultSettingsMap": {},
     "title": ""
    }
   },
   "source": [
    "### Visualização Inicial"
   ]
  },
  {
   "cell_type": "code",
   "execution_count": 0,
   "metadata": {
    "application/vnd.databricks.v1+cell": {
     "cellMetadata": {
      "byteLimit": 2048000,
      "rowLimit": 10000
     },
     "inputWidgets": {},
     "nuid": "6df9fa74-5359-447d-97f2-d0500db2d44a",
     "showTitle": false,
     "tableResultSettingsMap": {},
     "title": ""
    }
   },
   "outputs": [],
   "source": [
    "print(\"Tabela Clientes: \")\n",
    "show_table(clientes_df)\n",
    "\n",
    "print(\"\\nTabela Produtos: \")\n",
    "show_table(produtos_df)\n",
    "\n",
    "print(\"\\nTabela Vendas: \")\n",
    "show_table(vendas_df)"
   ]
  },
  {
   "cell_type": "code",
   "execution_count": 0,
   "metadata": {
    "application/vnd.databricks.v1+cell": {
     "cellMetadata": {
      "byteLimit": 2048000,
      "rowLimit": 10000
     },
     "inputWidgets": {},
     "nuid": "245560fe-c972-48cd-9c49-0bd12986c054",
     "showTitle": false,
     "tableResultSettingsMap": {},
     "title": ""
    }
   },
   "outputs": [],
   "source": [
    "print(\"Tabela Unificada: \")\n",
    "show_table(df_unificado)\n",
    "basic_eda(df_unificado)\n",
    "# graphical_eda(df_unificado)"
   ]
  },
  {
   "cell_type": "markdown",
   "metadata": {
    "application/vnd.databricks.v1+cell": {
     "cellMetadata": {
      "byteLimit": 2048000,
      "rowLimit": 10000
     },
     "inputWidgets": {},
     "nuid": "fe7f0f8f-1a05-49b9-8adb-69c1942ea480",
     "showTitle": false,
     "tableResultSettingsMap": {},
     "title": ""
    }
   },
   "source": [
    "### Tratamento de Valores Nulos"
   ]
  },
  {
   "cell_type": "code",
   "execution_count": 0,
   "metadata": {
    "application/vnd.databricks.v1+cell": {
     "cellMetadata": {
      "byteLimit": 2048000,
      "rowLimit": 10000
     },
     "inputWidgets": {},
     "nuid": "9c114c2e-8b77-4ea0-a0fe-0e3545fc5665",
     "showTitle": false,
     "tableResultSettingsMap": {},
     "title": ""
    }
   },
   "outputs": [],
   "source": [
    "def fill_missing_marca(df):\n",
    "    # Extrair a primeira palavra da coluna nome_produto\n",
    "    df = df.withColumn(\"first_word\", F.split(F.col(\"nome_produto\"), \" \").getItem(0))\n",
    "    \n",
    "    # Preencher valores ausentes na coluna marca com a primeira palavra de nome_produto\n",
    "    df = df.withColumn(\"marca\", F.when(F.col(\"marca\").isNull(), \n",
    "                                       F.col(\"first_word\")\n",
    "                                      ).otherwise(F.col(\"marca\")))\n",
    "    \n",
    "    # Remover a coluna temporária first_word\n",
    "    df = df.drop(\"first_word\")\n",
    "\n",
    "    # Renomear a coluna marca para categoria_produto\n",
    "    df = df.withColumnRenamed('marca','categoria_produto')\n",
    "    \n",
    "    return df"
   ]
  },
  {
   "cell_type": "code",
   "execution_count": 0,
   "metadata": {
    "application/vnd.databricks.v1+cell": {
     "cellMetadata": {
      "byteLimit": 2048000,
      "rowLimit": 10000
     },
     "inputWidgets": {},
     "nuid": "507df703-1fe7-451d-9f62-e4636d4850fc",
     "showTitle": false,
     "tableResultSettingsMap": {},
     "title": ""
    }
   },
   "outputs": [],
   "source": [
    "df_unificado = fill_missing_marca(df_unificado)"
   ]
  },
  {
   "cell_type": "markdown",
   "metadata": {
    "application/vnd.databricks.v1+cell": {
     "cellMetadata": {
      "byteLimit": 2048000,
      "rowLimit": 10000
     },
     "inputWidgets": {},
     "nuid": "ec9c7092-ee77-47e8-86d4-76397da1eb5b",
     "showTitle": false,
     "tableResultSettingsMap": {},
     "title": ""
    }
   },
   "source": [
    "### Tratamento Coluna Cidade"
   ]
  },
  {
   "cell_type": "code",
   "execution_count": 0,
   "metadata": {
    "application/vnd.databricks.v1+cell": {
     "cellMetadata": {
      "byteLimit": 2048000,
      "rowLimit": 10000
     },
     "inputWidgets": {},
     "nuid": "891ffd68-e97f-40d7-8612-0e5dccbade1d",
     "showTitle": false,
     "tableResultSettingsMap": {},
     "title": ""
    }
   },
   "outputs": [],
   "source": [
    "df_unificado.select('nome','cidade','estado').display()"
   ]
  },
  {
   "cell_type": "markdown",
   "metadata": {
    "application/vnd.databricks.v1+cell": {
     "cellMetadata": {
      "byteLimit": 2048000,
      "rowLimit": 10000
     },
     "inputWidgets": {},
     "nuid": "0bdd7371-a8f5-458d-86d2-2fce74b25462",
     "showTitle": false,
     "tableResultSettingsMap": {},
     "title": ""
    }
   },
   "source": [
    "##### Análise dos dados da coluna Cidade\n",
    "\n",
    "A coluna 'cidade' apresenta registros que, na realidade, aparentam corresponder a sobrenomes dos clientes e não a localidades. \n",
    "\n",
    "Por não representar o atributo proposto e não agregar valor à análise, optou-se pela exclusão da coluna, visando manter o foco do desenvolvimento nos principais geradores de ganho dessa análise.\n",
    "\n",
    "**Conlusão**: Remover coluna 'cidade' do dataset final."
   ]
  },
  {
   "cell_type": "code",
   "execution_count": 0,
   "metadata": {
    "application/vnd.databricks.v1+cell": {
     "cellMetadata": {
      "byteLimit": 2048000,
      "rowLimit": 10000
     },
     "inputWidgets": {},
     "nuid": "3b479fbb-d759-434f-a95c-406818af8c45",
     "showTitle": false,
     "tableResultSettingsMap": {},
     "title": ""
    }
   },
   "outputs": [],
   "source": [
    "df_unificado = df_unificado.drop('cidade')"
   ]
  },
  {
   "cell_type": "markdown",
   "metadata": {
    "application/vnd.databricks.v1+cell": {
     "cellMetadata": {
      "byteLimit": 2048000,
      "rowLimit": 10000
     },
     "inputWidgets": {},
     "nuid": "e37475e2-2460-4494-b584-5cc577e5edf4",
     "showTitle": false,
     "tableResultSettingsMap": {},
     "title": ""
    }
   },
   "source": [
    "### Enriquecimento dos dados"
   ]
  },
  {
   "cell_type": "code",
   "execution_count": 0,
   "metadata": {
    "application/vnd.databricks.v1+cell": {
     "cellMetadata": {
      "byteLimit": 2048000,
      "rowLimit": 10000
     },
     "inputWidgets": {},
     "nuid": "398abc2d-3bba-4636-be49-fd470df584e2",
     "showTitle": false,
     "tableResultSettingsMap": {},
     "title": ""
    }
   },
   "outputs": [],
   "source": [
    "# Definição do schema para a UDF\n",
    "schema_cat_brand_model = StructType([\n",
    "    StructField(\"categoria\", StringType(), True),\n",
    "    StructField(\"marca\", StringType(), True),\n",
    "    StructField(\"modelo\", StringType(), True),\n",
    "])\n",
    "\n",
    "# Função UDF para extrair categoria, marca e modelo do nome do produto, com base em uma lista de BRANDS\n",
    "@F.udf(returnType=schema_cat_brand_model)\n",
    "def extract_cat_brand_model(nome_produto: str):\n",
    "    if not nome_produto:\n",
    "        return {\"categoria\": None, \"marca\": None, \"modelo\": None}\n",
    "\n",
    "    toks = nome_produto.strip().split()\n",
    "    marca_idx = None\n",
    "    marca_name = None\n",
    "\n",
    "    # Identifica a marca no nome do produto, com base na lista BRANDS\n",
    "    for i, tok in enumerate(toks):\n",
    "        tok_clean = re.sub(r\"[\\-\\+]\", \" \", tok)\n",
    "        for brand in BRANDS:\n",
    "            if tok.lower() == brand.lower() or tok_clean.lower() == brand.lower():\n",
    "                marca_idx = i\n",
    "                marca_name = brand\n",
    "                break\n",
    "        if marca_idx is not None:\n",
    "            break\n",
    "\n",
    "    # Extrai categoria e modelo com base na posição da marca\n",
    "    if marca_idx is not None:\n",
    "        categoria = \" \".join(toks[:marca_idx]).strip() or None\n",
    "        modelo = \" \".join(toks[marca_idx+1:]).strip() or None\n",
    "        return {\"categoria\": categoria, \"marca\": marca_name, \"modelo\": modelo}\n",
    "    else:\n",
    "        categoria = toks[0]\n",
    "        modelo = \" \".join(toks[1:]).strip() or None\n",
    "        return {\"categoria\": categoria, \"marca\": None, \"modelo\": modelo}\n",
    "\n",
    "# Função para substituir valores vazios por nulos\n",
    "def null_if_empty(col):\n",
    "    return F.when(F.trim(col) == \"\", None).otherwise(col)\n",
    "\n",
    "# Função para enriquecer o DataFrame de produtos\n",
    "def enriquece_produtos(df, BRANDS):\n",
    "    \"\"\"\n",
    "    Enriquecer DataFrame de produtos com categoria, marca, modelo, capacidade, dimensões, potência e memória.\n",
    "    \n",
    "    Parâmetros:\n",
    "        df : PySpark DataFrame\n",
    "            DataFrame de entrada com pelo menos as colunas 'nome_produto' e 'descricao'.\n",
    "    \n",
    "    Retorna:\n",
    "        PySpark DataFrame com colunas adicionadas:\n",
    "        ['categoria', 'marca', 'modelo', 'capacidade', 'dimensao', 'potencia']\n",
    "    \"\"\"\n",
    "    # Extrai categoria, marca e modelo do nome do produto\n",
    "    df_enriquecido = df.withColumn(\n",
    "        \"cat_brand_model\",\n",
    "        extract_cat_brand_model(F.col(\"nome_produto\"))\n",
    "    ).withColumn(\"categoria\", F.col(\"cat_brand_model.categoria\")) \\\n",
    "     .withColumn(\"marca\", F.col(\"cat_brand_model.marca\")) \\\n",
    "     .withColumn(\"modelo\", F.col(\"cat_brand_model.modelo\")) \\\n",
    "     .drop(\"cat_brand_model\")\n",
    "\n",
    "    # Cria um padrão regex para corresponder a qualquer nome de marca\n",
    "    brands_pattern = '|'.join(BRANDS)\n",
    "\n",
    "    # Atualiza o DataFrame para remover nomes de marcas da coluna 'nome_produto'\n",
    "    df_enriquecido = df_enriquecido.withColumn(\n",
    "        \"nome_produto_cleaned\",\n",
    "        F.regexp_replace(F.col(\"nome_produto\"), f\"\\\\b({brands_pattern})\\\\b\", \"\")\n",
    "    )\n",
    "    \n",
    "    # Atualiza a coluna 'categoria' com base no nome do produto limpo\n",
    "    # A Categoria consiste em strings de até 2 palavras (3 se conter stop-words) que descrevem em termos gerais, a categoria do produto\n",
    "    df_enriquecido = df_enriquecido.withColumn(\n",
    "        \"categoria\",\n",
    "        F.when(\n",
    "            (F.size(F.split(F.col(\"nome_produto_cleaned\"), \" \")) > 3) & \n",
    "            (F.array_contains(F.array(F.lit(\"de\"), F.lit(\"da\"), F.lit(\"do\"), F.lit(\"das\"), F.lit(\"dos\"), F.lit(\"a\"), F.lit(\"o\"), F.lit(\"e\")), \n",
    "                            F.split(F.col(\"nome_produto_cleaned\"), \" \")[1])),\n",
    "            F.concat_ws(\" \", F.slice(F.split(F.col(\"nome_produto_cleaned\"), \" \"), 1, 3))\n",
    "        ).when(\n",
    "            F.size(F.split(F.col(\"nome_produto_cleaned\"), \" \")) > 2,\n",
    "            F.concat_ws(\" \", F.slice(F.split(F.col(\"nome_produto_cleaned\"), \" \"), 1, 2))\n",
    "        ).otherwise(F.col(\"nome_produto_cleaned\"))\n",
    "    )\n",
    "\n",
    "    # Extrai capacidade em litros da descrição ou nome do produto\n",
    "    df_enriquecido = df_enriquecido.withColumn(\n",
    "        \"capacidade\",\n",
    "        F.coalesce(\n",
    "            null_if_empty(F.regexp_extract(F.col(\"descricao\"), r\"(\\d+(?:,\\d+)?\\s?[lL])\", 1)),\n",
    "            null_if_empty(F.regexp_extract(F.col(\"nome_produto\"), r\"(\\d+(?:,\\d+)?\\s?[lL])\", 1))\n",
    "        )\n",
    "    ).withColumn(\n",
    "        # Extrai dimensões da descrição ou nome do produto\n",
    "        \"dimensao\",\n",
    "        F.coalesce(\n",
    "            null_if_empty(F.regexp_extract(F.col(\"descricao\"), r\"(\\d+(?:,\\d+)?\\s?cm)\", 1)),\n",
    "            null_if_empty(F.regexp_extract(F.col(\"nome_produto\"), r\"(\\d+(?:,\\d+)?\\s?cm)\", 1)),\n",
    "            null_if_empty(F.regexp_extract(F.col(\"descricao\"), r\"(\\d+(?:\\.\\d+)?\\s*(\\\"|”|''|pol))\", 1)),\n",
    "            null_if_empty(F.regexp_extract(F.col(\"nome_produto\"), r\"(\\d+(?:\\.\\d+)?\\s*(\\\"|”|''|pol))\", 1))\n",
    "        )\n",
    "    ).withColumn(\n",
    "        # Extrai potência em watts da descrição ou nome do produto\n",
    "        \"potencia\",\n",
    "        F.coalesce(\n",
    "            null_if_empty(F.regexp_extract(F.col(\"descricao\"), r\"(\\d+(?:,\\d+)?\\s?W)\", 1)),\n",
    "            null_if_empty(F.regexp_extract(F.col(\"nome_produto\"), r\"(\\d+(?:,\\d+)?\\s?W)\", 1))\n",
    "        )\n",
    "    )\n",
    "\n",
    "    # Seleciona e re-ordena colunas\n",
    "    df_enriquecido = df_enriquecido.select(\n",
    "        'id_venda', 'canal_venda', 'valor', 'data_venda', 'ano_mes_venda',\n",
    "        'id_produto', 'nome_produto', 'descricao', 'categoria', 'marca', 'modelo', 'capacidade', 'dimensao', 'potencia',\n",
    "        'id_cliente', 'nome', 'email', 'telefone', 'estado', 'data_cadastro', 'categoria_produto'\n",
    "    )\n",
    "\n",
    "    return df_enriquecido\n",
    "\n",
    "# Lista de marcas conhecidas\n",
    "BRANDS = [\"Mondial\", \"Dell\", \"Samsung\", \"LG\", \"Nespresso\", \"Arno\", \"Electrolux\", \"Brastemp\", \n",
    "          \"Black+Decker\", \"HP\", \"Lorenzetti\", \"Fischer\", \"Philips Walita\", \"Redragon\", \n",
    "          \"Logitech\", \"Xiaomi\", \"Apple\", \"Motorola\", \"Acer\", \"ThunderX3\", \"Fifine\", \n",
    "          \"Lenovo\", \"JBL\", \"Kingston\", \"Seagate\", \"TP-Link\", \"Clamper\", \"Britânia\", \"WAP\"]\n",
    "\n",
    "df_enriquecido = enriquece_produtos(df_unificado, BRANDS)"
   ]
  },
  {
   "cell_type": "markdown",
   "metadata": {
    "application/vnd.databricks.v1+cell": {
     "cellMetadata": {
      "byteLimit": 2048000,
      "rowLimit": 10000
     },
     "inputWidgets": {},
     "nuid": "e9530553-33c0-48bd-9334-592714961a4f",
     "showTitle": false,
     "tableResultSettingsMap": {},
     "title": ""
    }
   },
   "source": [
    "#### Tratamento da coluna Categoria_Produto (marca na tabela origem) e Categoria\n"
   ]
  },
  {
   "cell_type": "code",
   "execution_count": 0,
   "metadata": {
    "application/vnd.databricks.v1+cell": {
     "cellMetadata": {
      "byteLimit": 2048000,
      "rowLimit": 10000
     },
     "inputWidgets": {},
     "nuid": "e72e6bf9-036c-4766-bbd2-993090583d14",
     "showTitle": false,
     "tableResultSettingsMap": {},
     "title": ""
    }
   },
   "outputs": [],
   "source": [
    "df_enriquecido.select(\"categoria_produto\",\"categoria\").display()"
   ]
  },
  {
   "cell_type": "markdown",
   "metadata": {
    "application/vnd.databricks.v1+cell": {
     "cellMetadata": {
      "byteLimit": 2048000,
      "rowLimit": 10000
     },
     "inputWidgets": {},
     "nuid": "b489a690-2ccc-46c5-859d-41fb51474bab",
     "showTitle": false,
     "tableResultSettingsMap": {},
     "title": ""
    }
   },
   "source": [
    "##### Análise coluna Categoria_Produto e Categoria\n",
    "\n",
    "- A coluna Categoria_Produto consiste na coluna \"marca\" corrigida e renomeada. A coluna \"marca\", na origem, continha informações sobre a categoria do produto, ou seja, se o produto fosse um Notebook Dell Inspiron 15, \"marca\" seria Notebook. Identificou-se que existinham valores nulos na origem para esse campo, esses valores foram preenchidos com a primeira palavra da coluna \"nome_produto\".\n",
    "- A coluna Categoria é preenchida pela analise textual da coluna \"nome_produto\", a lógica por trás do preenchimento é: Identificar a marca do protudo, sua categoria será o que está antes da marca.\n",
    "- Ao comparar as duas colunas, nota-se que a coluna contruida \"Categoria\", contém os mesmo dados que a coluna da origem \"Categoria_Produto\", sendo os dados da coluna \"Categoria\" mais completos e acertivos\n",
    "- Assim, optou-se pela remoção da coluna \"Categoria_Produto\" da base final.\n",
    "\n",
    "**Conclusão**: Remover cooluna \"Categoria_Produto\" ou \"marca\" do dataset final"
   ]
  },
  {
   "cell_type": "code",
   "execution_count": 0,
   "metadata": {
    "application/vnd.databricks.v1+cell": {
     "cellMetadata": {
      "byteLimit": 2048000,
      "rowLimit": 10000
     },
     "inputWidgets": {},
     "nuid": "778d8edf-de3c-4496-921a-6f4db15dcec4",
     "showTitle": false,
     "tableResultSettingsMap": {},
     "title": ""
    }
   },
   "outputs": [],
   "source": [
    "df_enriquecido = df_enriquecido.drop(\"categoria_produto\")"
   ]
  },
  {
   "cell_type": "markdown",
   "metadata": {
    "application/vnd.databricks.v1+cell": {
     "cellMetadata": {
      "byteLimit": 2048000,
      "rowLimit": 10000
     },
     "inputWidgets": {},
     "nuid": "b8016893-67ba-4370-aa34-b289ee8cec18",
     "showTitle": false,
     "tableResultSettingsMap": {},
     "title": ""
    }
   },
   "source": [
    "### Validação da Base Final"
   ]
  },
  {
   "cell_type": "code",
   "execution_count": 0,
   "metadata": {
    "application/vnd.databricks.v1+cell": {
     "cellMetadata": {
      "byteLimit": 2048000,
      "rowLimit": 10000
     },
     "inputWidgets": {},
     "nuid": "27dd9d3c-8055-4894-baac-17a956233361",
     "showTitle": false,
     "tableResultSettingsMap": {
      "0": {
       "dataGridStateBlob": "{\"version\":1,\"tableState\":{\"columnPinning\":{\"left\":[\"#row_number#\"],\"right\":[]},\"columnSizing\":{},\"columnVisibility\":{}},\"settings\":{\"columns\":{}},\"syncTimestamp\":1756820391180}",
       "filterBlob": null,
       "queryPlanFiltersBlob": null,
       "tableResultIndex": 0
      },
      "1": {
       "dataGridStateBlob": "{\"version\":1,\"tableState\":{\"columnPinning\":{\"left\":[\"#row_number#\"],\"right\":[]},\"columnSizing\":{},\"columnVisibility\":{}},\"settings\":{\"columns\":{}},\"syncTimestamp\":1756820396300}",
       "filterBlob": null,
       "queryPlanFiltersBlob": null,
       "tableResultIndex": 1
      },
      "2": {
       "dataGridStateBlob": "{\"version\":1,\"tableState\":{\"columnPinning\":{\"left\":[\"#row_number#\"],\"right\":[]},\"columnSizing\":{},\"columnVisibility\":{}},\"settings\":{\"columns\":{}},\"syncTimestamp\":1756820396314}",
       "filterBlob": null,
       "queryPlanFiltersBlob": null,
       "tableResultIndex": 2
      }
     },
     "title": ""
    }
   },
   "outputs": [],
   "source": [
    "print(\"Tabela Enriquecida: \")\n",
    "show_table(df_enriquecido)\n",
    "basic_eda(df_enriquecido)\n",
    "graphical_eda(df_enriquecido)"
   ]
  },
  {
   "cell_type": "markdown",
   "metadata": {
    "application/vnd.databricks.v1+cell": {
     "cellMetadata": {
      "byteLimit": 2048000,
      "rowLimit": 10000
     },
     "inputWidgets": {},
     "nuid": "3d2a4a85-f581-4b84-8303-3c346471505d",
     "showTitle": false,
     "tableResultSettingsMap": {},
     "title": ""
    }
   },
   "source": [
    "### Construção dos Indicadores\n",
    "\n",
    "- Produtos mais vendidos;\n",
    "- Faturamento por mês, canal, estado;\n",
    "- Ticket médio;\n",
    "- Sazonalidade;"
   ]
  },
  {
   "cell_type": "code",
   "execution_count": 0,
   "metadata": {
    "application/vnd.databricks.v1+cell": {
     "cellMetadata": {
      "byteLimit": 2048000,
      "rowLimit": 10000
     },
     "inputWidgets": {},
     "nuid": "5fd5e8cb-858e-45fa-bf04-12470bbbf29f",
     "showTitle": false,
     "tableResultSettingsMap": {},
     "title": ""
    }
   },
   "outputs": [],
   "source": [
    "def aggregate_product_data(df):\n",
    "    # Seleciona as colunas relevantes\n",
    "    df = df.select('id_venda', 'valor', 'id_produto', 'nome_produto')\n",
    "\n",
    "    # Calcula o total de vendas e a soma total dos valores\n",
    "    total_count = df.count()\n",
    "    total_sum_valor = df.agg(F.sum('valor')).collect()[0][0]\n",
    "\n",
    "    # Agrupa por nome_produto e calcula a quantidade de vendas e arrecadação\n",
    "    df_agg = df.groupBy('id_produto', 'nome_produto').agg(\n",
    "        F.count('id_venda').alias('qtd_vendas'),\n",
    "        F.round(F.sum('valor'), 2).alias('arrecadacao'),\n",
    "    ).withColumn(\n",
    "        'percentual_vendas', F.round((F.col('qtd_vendas') / total_count) * 100, 2)\n",
    "    ).withColumn(\n",
    "        'percentual_arrecadacao', F.round((F.col('arrecadacao') / total_sum_valor) * 100, 2)\n",
    "    )\n",
    "\n",
    "    # Seleciona e ordena as colunas finais\n",
    "    df_agg = df_agg.select(\n",
    "        'id_produto', 'nome_produto', 'qtd_vendas', 'percentual_vendas', 'arrecadacao', 'percentual_arrecadacao'\n",
    "    ).orderBy('qtd_vendas', ascending=False)\n",
    "\n",
    "    return df_agg\n",
    "\n",
    "df_prod_agg = aggregate_product_data(df_enriquecido)\n",
    "df_prod_agg.display()"
   ]
  },
  {
   "cell_type": "code",
   "execution_count": 0,
   "metadata": {
    "application/vnd.databricks.v1+cell": {
     "cellMetadata": {
      "byteLimit": 2048000,
      "rowLimit": 10000
     },
     "inputWidgets": {},
     "nuid": "442258e4-65d5-45e9-9c63-69c50a237f9e",
     "showTitle": false,
     "tableResultSettingsMap": {},
     "title": ""
    }
   },
   "outputs": [],
   "source": [
    "df_canal_estado = df_enriquecido.groupBy(\"canal_venda\", \"estado\", \"data_venda\").agg(\n",
    "    F.count(\"id_venda\").alias(\"qtd_vendas\"),\n",
    "    F.round(F.sum(\"valor\"), 2).alias(\"faturamento\"),\n",
    "    F.round(F.avg(\"valor\"), 2).alias(\"ticket_medio\")\n",
    ").orderBy(\"faturamento\")\n",
    "df_canal_estado.display()\n",
    "\n",
    "# Sazonalidade (vendas por mês)\n",
    "df_sazonalidade = df_enriquecido.groupBy(\"data_venda\").agg(\n",
    "    F.count(\"id_venda\").alias(\"qtd_vendas\"),\n",
    "    F.round(F.sum(\"valor\"), 2).alias(\"faturamento\"),\n",
    "    F.round(F.avg(\"valor\"), 2).alias(\"ticket_medio\")\n",
    ").orderBy(\"data_venda\")\n",
    "df_sazonalidade.display()"
   ]
  },
  {
   "cell_type": "markdown",
   "metadata": {
    "application/vnd.databricks.v1+cell": {
     "cellMetadata": {
      "byteLimit": 2048000,
      "rowLimit": 10000
     },
     "inputWidgets": {},
     "nuid": "4b865408-93ba-4bfe-a2dc-b23fd6c7d48e",
     "showTitle": false,
     "tableResultSettingsMap": {},
     "title": ""
    }
   },
   "source": []
  }
 ],
 "metadata": {
  "application/vnd.databricks.v1+notebook": {
   "computePreferences": null,
   "dashboards": [],
   "environmentMetadata": {
    "base_environment": "",
    "environment_version": "3"
   },
   "inputWidgetPreferences": null,
   "language": "python",
   "notebookMetadata": {
    "pythonIndentUnit": 4
   },
   "notebookName": "Gerando_Falcoes_v1",
   "widgets": {}
  },
  "language_info": {
   "name": "python"
  }
 },
 "nbformat": 4,
 "nbformat_minor": 0
}
